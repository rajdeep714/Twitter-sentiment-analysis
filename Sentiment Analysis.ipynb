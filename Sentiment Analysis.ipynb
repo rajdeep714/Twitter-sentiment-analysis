{
 "cells": [
  {
   "cell_type": "code",
   "execution_count": 1,
   "metadata": {},
   "outputs": [],
   "source": [
    "import pandas as pd\n",
    "import numpy as np\n",
    "import tweepy \n",
    "from textblob import TextBlob\n",
    "from wordcloud import WordCloud\n",
    "from textblob.sentiments import NaiveBayesAnalyzer\n",
    "import seaborn as sns\n",
    "import re \n",
    "import matplotlib.pyplot as plt\n",
    "plt.style.use('fivethirtyeight')"
   ]
  },
  {
   "cell_type": "markdown",
   "metadata": {},
   "source": [
    "### Read Twitter API"
   ]
  },
  {
   "cell_type": "code",
   "execution_count": 2,
   "metadata": {},
   "outputs": [],
   "source": [
    "consumerKey = 'XX1'\n",
    "consumerSecret = 'XX2'\n",
    "accessToken = 'XX3'\n",
    "accessTokenSecret = 'XX4'"
   ]
  },
  {
   "cell_type": "markdown",
   "metadata": {},
   "source": [
    "### Authenticate API keys\n"
   ]
  },
  {
   "cell_type": "code",
   "execution_count": 3,
   "metadata": {},
   "outputs": [],
   "source": [
    "authenticate = tweepy.OAuthHandler(consumerKey, consumerSecret)\n",
    "authenticate.set_access_token(accessToken, accessTokenSecret)\n",
    "api = tweepy.API(authenticate, wait_on_rate_limit = True) # api object"
   ]
  },
  {
   "cell_type": "markdown",
   "metadata": {},
   "source": [
    "### Get a Tweet from Twitter"
   ]
  },
  {
   "cell_type": "code",
   "execution_count": 4,
   "metadata": {},
   "outputs": [],
   "source": [
    "post = api.user_timeline(screen_name=\"neiltyson\", count = 100, tweet_mode=\"extended\")"
   ]
  },
  {
   "cell_type": "markdown",
   "metadata": {},
   "source": [
    "####  Print the last 5 tweets"
   ]
  },
  {
   "cell_type": "code",
   "execution_count": 5,
   "metadata": {},
   "outputs": [
    {
     "name": "stdout",
     "output_type": "stream",
     "text": [
      "1) Leo from Virginia recommends Starry Messenger to fellow dogs concerned for the future of civilization. He also thinks you should pick up a copy for your pet human. #InternationalDogDay https://t.co/nvWhuMGU8S\n",
      "\n",
      "2) SQUIRREL !!! https://t.co/CCb0gsn2gV\n",
      "\n",
      "3) Leo from Virginia just read about how space exploration, giving access to unlimited resources, could bring an end to all wars on Earth waged over limited resources. Reflecting on this fact gives him hope of the future of humans. #InternationalDogDay https://t.co/AiNVJPMraR\n",
      "\n",
      "4) In the chapter Meatarians &amp; Vegetarians, Leo from Virginia was intrigued that some humans eat only plants. #InternationalDogDay https://t.co/3QHp6qcEAQ\n",
      "\n",
      "5) Reading his pre-release copy of Starry Messenger, Leo from Virginia was especially interested in the paragraph on Dog life-expectancy, in the final chapter titled “Life &amp; Death”. #InternationalDogDay https://t.co/fdpqn07S26\n",
      "\n"
     ]
    }
   ],
   "source": [
    "i=1\n",
    "for tweet in post[:5]:\n",
    "    print(str(i) +') '+ tweet.full_text + '\\n')\n",
    "    i= i+1"
   ]
  },
  {
   "cell_type": "markdown",
   "metadata": {},
   "source": [
    "### Save Tweets in DataFrame"
   ]
  },
  {
   "cell_type": "code",
   "execution_count": 6,
   "metadata": {},
   "outputs": [],
   "source": [
    "twitter = pd.DataFrame([tweet.full_text for tweet in post], columns=['Tweets'])"
   ]
  },
  {
   "cell_type": "markdown",
   "metadata": {},
   "source": [
    "### Clean a Tweet"
   ]
  },
  {
   "cell_type": "code",
   "execution_count": 7,
   "metadata": {},
   "outputs": [],
   "source": [
    "def cleanTxt(text):\n",
    "    text = re.sub('@[A-Za-z0–9]+', '', text) #Removing @mentions\n",
    "    text = re.sub('#', '', text) # Removing '#' hash tag\n",
    "    text = re.sub('RT[\\s]+', '', text) # Removing RT\n",
    "    text = re.sub('https?://\\S+', '', text) # Removing hyperlink\n",
    "    text = re.sub('&amp;', '&', text) # Replacing special characters with symbols\n",
    "    text = re.sub('&lt;', '<', text)\n",
    "    text = re.sub('&gt;', '>', text)\n",
    "    text = re.sub('&quot;', '\"', text)\n",
    "    text = re.sub('&apos;', '`', text)\n",
    "    return text"
   ]
  },
  {
   "cell_type": "code",
   "execution_count": 8,
   "metadata": {},
   "outputs": [],
   "source": [
    "twitter['Tweets'] = twitter['Tweets'].apply(cleanTxt)"
   ]
  },
  {
   "cell_type": "code",
   "execution_count": 9,
   "metadata": {},
   "outputs": [
    {
     "data": {
      "text/html": [
       "<div>\n",
       "<style scoped>\n",
       "    .dataframe tbody tr th:only-of-type {\n",
       "        vertical-align: middle;\n",
       "    }\n",
       "\n",
       "    .dataframe tbody tr th {\n",
       "        vertical-align: top;\n",
       "    }\n",
       "\n",
       "    .dataframe thead th {\n",
       "        text-align: right;\n",
       "    }\n",
       "</style>\n",
       "<table border=\"1\" class=\"dataframe\">\n",
       "  <thead>\n",
       "    <tr style=\"text-align: right;\">\n",
       "      <th></th>\n",
       "      <th>Tweets</th>\n",
       "    </tr>\n",
       "  </thead>\n",
       "  <tbody>\n",
       "    <tr>\n",
       "      <th>0</th>\n",
       "      <td>Leo from Virginia recommends Starry Messenger ...</td>\n",
       "    </tr>\n",
       "    <tr>\n",
       "      <th>1</th>\n",
       "      <td>SQUIRREL !!!</td>\n",
       "    </tr>\n",
       "    <tr>\n",
       "      <th>2</th>\n",
       "      <td>Leo from Virginia just read about how space ex...</td>\n",
       "    </tr>\n",
       "    <tr>\n",
       "      <th>3</th>\n",
       "      <td>In the chapter Meatarians &amp; Vegetarians, Leo f...</td>\n",
       "    </tr>\n",
       "    <tr>\n",
       "      <th>4</th>\n",
       "      <td>Reading his pre-release copy of Starry Messeng...</td>\n",
       "    </tr>\n",
       "  </tbody>\n",
       "</table>\n",
       "</div>"
      ],
      "text/plain": [
       "                                              Tweets\n",
       "0  Leo from Virginia recommends Starry Messenger ...\n",
       "1                                      SQUIRREL !!! \n",
       "2  Leo from Virginia just read about how space ex...\n",
       "3  In the chapter Meatarians & Vegetarians, Leo f...\n",
       "4  Reading his pre-release copy of Starry Messeng..."
      ]
     },
     "execution_count": 9,
     "metadata": {},
     "output_type": "execute_result"
    }
   ],
   "source": [
    "twitter.head()"
   ]
  },
  {
   "cell_type": "markdown",
   "metadata": {},
   "source": [
    "### Using Pattern Library"
   ]
  },
  {
   "cell_type": "markdown",
   "metadata": {},
   "source": [
    "## Apply a Tweet to get subjectivity and polarity"
   ]
  },
  {
   "cell_type": "code",
   "execution_count": 10,
   "metadata": {},
   "outputs": [],
   "source": [
    "def getSubjectivity(text):\n",
    "    return TextBlob(text).sentiment.subjectivity"
   ]
  },
  {
   "cell_type": "code",
   "execution_count": 11,
   "metadata": {},
   "outputs": [],
   "source": [
    "def getPolarity(text):\n",
    "    return TextBlob(text).sentiment.polarity"
   ]
  },
  {
   "cell_type": "code",
   "execution_count": 12,
   "metadata": {},
   "outputs": [],
   "source": [
    "twitter['Subjectivity'] = twitter['Tweets'].apply(getSubjectivity)\n",
    "twitter['Polarity'] = twitter['Tweets'].apply(getPolarity)"
   ]
  },
  {
   "cell_type": "code",
   "execution_count": 13,
   "metadata": {},
   "outputs": [
    {
     "data": {
      "text/html": [
       "<div>\n",
       "<style scoped>\n",
       "    .dataframe tbody tr th:only-of-type {\n",
       "        vertical-align: middle;\n",
       "    }\n",
       "\n",
       "    .dataframe tbody tr th {\n",
       "        vertical-align: top;\n",
       "    }\n",
       "\n",
       "    .dataframe thead th {\n",
       "        text-align: right;\n",
       "    }\n",
       "</style>\n",
       "<table border=\"1\" class=\"dataframe\">\n",
       "  <thead>\n",
       "    <tr style=\"text-align: right;\">\n",
       "      <th></th>\n",
       "      <th>Tweets</th>\n",
       "      <th>Subjectivity</th>\n",
       "      <th>Polarity</th>\n",
       "    </tr>\n",
       "  </thead>\n",
       "  <tbody>\n",
       "    <tr>\n",
       "      <th>0</th>\n",
       "      <td>Leo from Virginia recommends Starry Messenger ...</td>\n",
       "      <td>0.112500</td>\n",
       "      <td>0.000000</td>\n",
       "    </tr>\n",
       "    <tr>\n",
       "      <th>1</th>\n",
       "      <td>SQUIRREL !!!</td>\n",
       "      <td>0.000000</td>\n",
       "      <td>0.000000</td>\n",
       "    </tr>\n",
       "    <tr>\n",
       "      <th>2</th>\n",
       "      <td>Leo from Virginia just read about how space ex...</td>\n",
       "      <td>0.133929</td>\n",
       "      <td>-0.035714</td>\n",
       "    </tr>\n",
       "    <tr>\n",
       "      <th>3</th>\n",
       "      <td>In the chapter Meatarians &amp; Vegetarians, Leo f...</td>\n",
       "      <td>1.000000</td>\n",
       "      <td>0.000000</td>\n",
       "    </tr>\n",
       "    <tr>\n",
       "      <th>4</th>\n",
       "      <td>Reading his pre-release copy of Starry Messeng...</td>\n",
       "      <td>1.000000</td>\n",
       "      <td>0.250000</td>\n",
       "    </tr>\n",
       "    <tr>\n",
       "      <th>...</th>\n",
       "      <td>...</td>\n",
       "      <td>...</td>\n",
       "      <td>...</td>\n",
       "    </tr>\n",
       "    <tr>\n",
       "      <th>95</th>\n",
       "      <td>If it was not otherwise clear: The link to th...</td>\n",
       "      <td>0.383333</td>\n",
       "      <td>0.100000</td>\n",
       "    </tr>\n",
       "    <tr>\n",
       "      <th>96</th>\n",
       "      <td>everybody knows… \\n\\n1 Guffaw = 10 Chortles</td>\n",
       "      <td>0.000000</td>\n",
       "      <td>0.000000</td>\n",
       "    </tr>\n",
       "    <tr>\n",
       "      <th>97</th>\n",
       "      <td>We talked about science in bad movies. Was a g...</td>\n",
       "      <td>0.681905</td>\n",
       "      <td>-0.007143</td>\n",
       "    </tr>\n",
       "    <tr>\n",
       "      <th>98</th>\n",
       "      <td>With a telescope, the Moon is best viewed duri...</td>\n",
       "      <td>0.581250</td>\n",
       "      <td>0.306250</td>\n",
       "    </tr>\n",
       "    <tr>\n",
       "      <th>99</th>\n",
       "      <td>Saturday, April 16, 2022\\n\\nFull Moon today — ...</td>\n",
       "      <td>0.383333</td>\n",
       "      <td>0.237500</td>\n",
       "    </tr>\n",
       "  </tbody>\n",
       "</table>\n",
       "<p>100 rows × 3 columns</p>\n",
       "</div>"
      ],
      "text/plain": [
       "                                               Tweets  Subjectivity  Polarity\n",
       "0   Leo from Virginia recommends Starry Messenger ...      0.112500  0.000000\n",
       "1                                       SQUIRREL !!!       0.000000  0.000000\n",
       "2   Leo from Virginia just read about how space ex...      0.133929 -0.035714\n",
       "3   In the chapter Meatarians & Vegetarians, Leo f...      1.000000  0.000000\n",
       "4   Reading his pre-release copy of Starry Messeng...      1.000000  0.250000\n",
       "..                                                ...           ...       ...\n",
       "95   If it was not otherwise clear: The link to th...      0.383333  0.100000\n",
       "96        everybody knows… \\n\\n1 Guffaw = 10 Chortles      0.000000  0.000000\n",
       "97  We talked about science in bad movies. Was a g...      0.681905 -0.007143\n",
       "98  With a telescope, the Moon is best viewed duri...      0.581250  0.306250\n",
       "99  Saturday, April 16, 2022\\n\\nFull Moon today — ...      0.383333  0.237500\n",
       "\n",
       "[100 rows x 3 columns]"
      ]
     },
     "execution_count": 13,
     "metadata": {},
     "output_type": "execute_result"
    }
   ],
   "source": [
    "twitter"
   ]
  },
  {
   "cell_type": "markdown",
   "metadata": {},
   "source": [
    "### find a common word of tweets and analysis using ploting"
   ]
  },
  {
   "cell_type": "code",
   "execution_count": 14,
   "metadata": {},
   "outputs": [
    {
     "data": {
      "image/png": "[encoded data removed]",
      "text/plain": [
       "<Figure size 432x288 with 1 Axes>"
      ]
     },
     "metadata": {},
     "output_type": "display_data"
    }
   ],
   "source": [
    "allWords = ' '.join([twts for twts in twitter['Tweets']])\n",
    "wordCloud = WordCloud(width=500, height=300, random_state=21, max_font_size=110).generate(allWords)\n",
    "\n",
    "plt.imshow(wordCloud, interpolation=\"bilinear\")\n",
    "plt.axis('off')\n",
    "plt.show()"
   ]
  },
  {
   "cell_type": "markdown",
   "metadata": {},
   "source": [
    "### Apply a Sentiment in word and save in datafame"
   ]
  },
  {
   "cell_type": "code",
   "execution_count": 15,
   "metadata": {},
   "outputs": [],
   "source": [
    "def getAnalysis(score):\n",
    "    if score < 0:\n",
    "        return 'Negative'\n",
    "    elif score == 0:\n",
    "        return 'Neutral'\n",
    "    else:\n",
    "        return 'Positive'"
   ]
  },
  {
   "cell_type": "code",
   "execution_count": 16,
   "metadata": {},
   "outputs": [],
   "source": [
    "twitter['Analysis'] = twitter['Polarity'].apply(getAnalysis)"
   ]
  },
  {
   "cell_type": "code",
   "execution_count": 17,
   "metadata": {},
   "outputs": [
    {
     "data": {
      "text/html": [
       "<div>\n",
       "<style scoped>\n",
       "    .dataframe tbody tr th:only-of-type {\n",
       "        vertical-align: middle;\n",
       "    }\n",
       "\n",
       "    .dataframe tbody tr th {\n",
       "        vertical-align: top;\n",
       "    }\n",
       "\n",
       "    .dataframe thead th {\n",
       "        text-align: right;\n",
       "    }\n",
       "</style>\n",
       "<table border=\"1\" class=\"dataframe\">\n",
       "  <thead>\n",
       "    <tr style=\"text-align: right;\">\n",
       "      <th></th>\n",
       "      <th>Tweets</th>\n",
       "      <th>Subjectivity</th>\n",
       "      <th>Polarity</th>\n",
       "      <th>Analysis</th>\n",
       "    </tr>\n",
       "  </thead>\n",
       "  <tbody>\n",
       "    <tr>\n",
       "      <th>0</th>\n",
       "      <td>Leo from Virginia recommends Starry Messenger ...</td>\n",
       "      <td>0.112500</td>\n",
       "      <td>0.000000</td>\n",
       "      <td>Neutral</td>\n",
       "    </tr>\n",
       "    <tr>\n",
       "      <th>1</th>\n",
       "      <td>SQUIRREL !!!</td>\n",
       "      <td>0.000000</td>\n",
       "      <td>0.000000</td>\n",
       "      <td>Neutral</td>\n",
       "    </tr>\n",
       "    <tr>\n",
       "      <th>2</th>\n",
       "      <td>Leo from Virginia just read about how space ex...</td>\n",
       "      <td>0.133929</td>\n",
       "      <td>-0.035714</td>\n",
       "      <td>Negative</td>\n",
       "    </tr>\n",
       "    <tr>\n",
       "      <th>3</th>\n",
       "      <td>In the chapter Meatarians &amp; Vegetarians, Leo f...</td>\n",
       "      <td>1.000000</td>\n",
       "      <td>0.000000</td>\n",
       "      <td>Neutral</td>\n",
       "    </tr>\n",
       "    <tr>\n",
       "      <th>4</th>\n",
       "      <td>Reading his pre-release copy of Starry Messeng...</td>\n",
       "      <td>1.000000</td>\n",
       "      <td>0.250000</td>\n",
       "      <td>Positive</td>\n",
       "    </tr>\n",
       "    <tr>\n",
       "      <th>...</th>\n",
       "      <td>...</td>\n",
       "      <td>...</td>\n",
       "      <td>...</td>\n",
       "      <td>...</td>\n",
       "    </tr>\n",
       "    <tr>\n",
       "      <th>95</th>\n",
       "      <td>If it was not otherwise clear: The link to th...</td>\n",
       "      <td>0.383333</td>\n",
       "      <td>0.100000</td>\n",
       "      <td>Positive</td>\n",
       "    </tr>\n",
       "    <tr>\n",
       "      <th>96</th>\n",
       "      <td>everybody knows… \\n\\n1 Guffaw = 10 Chortles</td>\n",
       "      <td>0.000000</td>\n",
       "      <td>0.000000</td>\n",
       "      <td>Neutral</td>\n",
       "    </tr>\n",
       "    <tr>\n",
       "      <th>97</th>\n",
       "      <td>We talked about science in bad movies. Was a g...</td>\n",
       "      <td>0.681905</td>\n",
       "      <td>-0.007143</td>\n",
       "      <td>Negative</td>\n",
       "    </tr>\n",
       "    <tr>\n",
       "      <th>98</th>\n",
       "      <td>With a telescope, the Moon is best viewed duri...</td>\n",
       "      <td>0.581250</td>\n",
       "      <td>0.306250</td>\n",
       "      <td>Positive</td>\n",
       "    </tr>\n",
       "    <tr>\n",
       "      <th>99</th>\n",
       "      <td>Saturday, April 16, 2022\\n\\nFull Moon today — ...</td>\n",
       "      <td>0.383333</td>\n",
       "      <td>0.237500</td>\n",
       "      <td>Positive</td>\n",
       "    </tr>\n",
       "  </tbody>\n",
       "</table>\n",
       "<p>100 rows × 4 columns</p>\n",
       "</div>"
      ],
      "text/plain": [
       "                                               Tweets  Subjectivity  Polarity  \\\n",
       "0   Leo from Virginia recommends Starry Messenger ...      0.112500  0.000000   \n",
       "1                                       SQUIRREL !!!       0.000000  0.000000   \n",
       "2   Leo from Virginia just read about how space ex...      0.133929 -0.035714   \n",
       "3   In the chapter Meatarians & Vegetarians, Leo f...      1.000000  0.000000   \n",
       "4   Reading his pre-release copy of Starry Messeng...      1.000000  0.250000   \n",
       "..                                                ...           ...       ...   \n",
       "95   If it was not otherwise clear: The link to th...      0.383333  0.100000   \n",
       "96        everybody knows… \\n\\n1 Guffaw = 10 Chortles      0.000000  0.000000   \n",
       "97  We talked about science in bad movies. Was a g...      0.681905 -0.007143   \n",
       "98  With a telescope, the Moon is best viewed duri...      0.581250  0.306250   \n",
       "99  Saturday, April 16, 2022\\n\\nFull Moon today — ...      0.383333  0.237500   \n",
       "\n",
       "    Analysis  \n",
       "0    Neutral  \n",
       "1    Neutral  \n",
       "2   Negative  \n",
       "3    Neutral  \n",
       "4   Positive  \n",
       "..       ...  \n",
       "95  Positive  \n",
       "96   Neutral  \n",
       "97  Negative  \n",
       "98  Positive  \n",
       "99  Positive  \n",
       "\n",
       "[100 rows x 4 columns]"
      ]
     },
     "execution_count": 17,
     "metadata": {},
     "output_type": "execute_result"
    }
   ],
   "source": [
    "twitter"
   ]
  },
  {
   "cell_type": "code",
   "execution_count": 18,
   "metadata": {},
   "outputs": [
    {
     "name": "stdout",
     "output_type": "stream",
     "text": [
      "<class 'pandas.core.frame.DataFrame'>\n",
      "RangeIndex: 100 entries, 0 to 99\n",
      "Data columns (total 4 columns):\n",
      " #   Column        Non-Null Count  Dtype  \n",
      "---  ------        --------------  -----  \n",
      " 0   Tweets        100 non-null    object \n",
      " 1   Subjectivity  100 non-null    float64\n",
      " 2   Polarity      100 non-null    float64\n",
      " 3   Analysis      100 non-null    object \n",
      "dtypes: float64(2), object(2)\n",
      "memory usage: 3.2+ KB\n"
     ]
    }
   ],
   "source": [
    "twitter.info()"
   ]
  },
  {
   "cell_type": "markdown",
   "metadata": {},
   "source": [
    "### Get positive tweets"
   ]
  },
  {
   "cell_type": "code",
   "execution_count": 19,
   "metadata": {},
   "outputs": [],
   "source": [
    "positive = twitter.loc[twitter['Analysis'].str.contains('Positive')]\n",
    "positive = positive.drop(['Subjectivity','Polarity'], axis=1)"
   ]
  },
  {
   "cell_type": "code",
   "execution_count": 20,
   "metadata": {},
   "outputs": [
    {
     "data": {
      "text/html": [
       "<div>\n",
       "<style scoped>\n",
       "    .dataframe tbody tr th:only-of-type {\n",
       "        vertical-align: middle;\n",
       "    }\n",
       "\n",
       "    .dataframe tbody tr th {\n",
       "        vertical-align: top;\n",
       "    }\n",
       "\n",
       "    .dataframe thead th {\n",
       "        text-align: right;\n",
       "    }\n",
       "</style>\n",
       "<table border=\"1\" class=\"dataframe\">\n",
       "  <thead>\n",
       "    <tr style=\"text-align: right;\">\n",
       "      <th></th>\n",
       "      <th>Tweets</th>\n",
       "      <th>Analysis</th>\n",
       "    </tr>\n",
       "  </thead>\n",
       "  <tbody>\n",
       "    <tr>\n",
       "      <th>4</th>\n",
       "      <td>Reading his pre-release copy of Starry Messeng...</td>\n",
       "      <td>Positive</td>\n",
       "    </tr>\n",
       "    <tr>\n",
       "      <th>5</th>\n",
       "      <td>If global warming continues:\\n\\n“Damn, it’s 'H...</td>\n",
       "      <td>Positive</td>\n",
       "    </tr>\n",
       "    <tr>\n",
       "      <th>6</th>\n",
       "      <td>Objective truths apply to all people, places, ...</td>\n",
       "      <td>Positive</td>\n",
       "    </tr>\n",
       "    <tr>\n",
       "      <th>7</th>\n",
       "      <td>Objective truths of science are not founded in...</td>\n",
       "      <td>Positive</td>\n",
       "    </tr>\n",
       "    <tr>\n",
       "      <th>8</th>\n",
       "      <td>Visiting aliens will have none of our biases. ...</td>\n",
       "      <td>Positive</td>\n",
       "    </tr>\n",
       "  </tbody>\n",
       "</table>\n",
       "</div>"
      ],
      "text/plain": [
       "                                              Tweets  Analysis\n",
       "4  Reading his pre-release copy of Starry Messeng...  Positive\n",
       "5  If global warming continues:\\n\\n“Damn, it’s 'H...  Positive\n",
       "6  Objective truths apply to all people, places, ...  Positive\n",
       "7  Objective truths of science are not founded in...  Positive\n",
       "8  Visiting aliens will have none of our biases. ...  Positive"
      ]
     },
     "execution_count": 20,
     "metadata": {},
     "output_type": "execute_result"
    }
   ],
   "source": [
    "positive.head()"
   ]
  },
  {
   "cell_type": "code",
   "execution_count": 21,
   "metadata": {},
   "outputs": [
    {
     "data": {
      "text/plain": [
       "(57, 2)"
      ]
     },
     "execution_count": 21,
     "metadata": {},
     "output_type": "execute_result"
    }
   ],
   "source": [
    "positive.shape"
   ]
  },
  {
   "cell_type": "markdown",
   "metadata": {},
   "source": [
    "### Get negative Tweets"
   ]
  },
  {
   "cell_type": "code",
   "execution_count": 22,
   "metadata": {},
   "outputs": [],
   "source": [
    "negative = twitter.loc[twitter['Analysis'].str.contains('Negative')]\n",
    "negative = negative.drop(['Subjectivity','Polarity'], axis=1)"
   ]
  },
  {
   "cell_type": "code",
   "execution_count": 23,
   "metadata": {},
   "outputs": [
    {
     "data": {
      "text/html": [
       "<div>\n",
       "<style scoped>\n",
       "    .dataframe tbody tr th:only-of-type {\n",
       "        vertical-align: middle;\n",
       "    }\n",
       "\n",
       "    .dataframe tbody tr th {\n",
       "        vertical-align: top;\n",
       "    }\n",
       "\n",
       "    .dataframe thead th {\n",
       "        text-align: right;\n",
       "    }\n",
       "</style>\n",
       "<table border=\"1\" class=\"dataframe\">\n",
       "  <thead>\n",
       "    <tr style=\"text-align: right;\">\n",
       "      <th></th>\n",
       "      <th>Tweets</th>\n",
       "      <th>Analysis</th>\n",
       "    </tr>\n",
       "  </thead>\n",
       "  <tbody>\n",
       "    <tr>\n",
       "      <th>2</th>\n",
       "      <td>Leo from Virginia just read about how space ex...</td>\n",
       "      <td>Negative</td>\n",
       "    </tr>\n",
       "    <tr>\n",
       "      <th>14</th>\n",
       "      <td>FAST POLL RESULTS: One in five of you are eith...</td>\n",
       "      <td>Negative</td>\n",
       "    </tr>\n",
       "    <tr>\n",
       "      <th>16</th>\n",
       "      <td>Fast Poll...\\n\\nI posted dozens of quotes this...</td>\n",
       "      <td>Negative</td>\n",
       "    </tr>\n",
       "    <tr>\n",
       "      <th>28</th>\n",
       "      <td>In 1945 we defeated violent fascist leaders wh...</td>\n",
       "      <td>Negative</td>\n",
       "    </tr>\n",
       "    <tr>\n",
       "      <th>37</th>\n",
       "      <td>Chapter: CONFLICT &amp; RESOLUTION\\n\\n\"Part the cu...</td>\n",
       "      <td>Negative</td>\n",
       "    </tr>\n",
       "  </tbody>\n",
       "</table>\n",
       "</div>"
      ],
      "text/plain": [
       "                                               Tweets  Analysis\n",
       "2   Leo from Virginia just read about how space ex...  Negative\n",
       "14  FAST POLL RESULTS: One in five of you are eith...  Negative\n",
       "16  Fast Poll...\\n\\nI posted dozens of quotes this...  Negative\n",
       "28  In 1945 we defeated violent fascist leaders wh...  Negative\n",
       "37  Chapter: CONFLICT & RESOLUTION\\n\\n\"Part the cu...  Negative"
      ]
     },
     "execution_count": 23,
     "metadata": {},
     "output_type": "execute_result"
    }
   ],
   "source": [
    "negative.head()"
   ]
  },
  {
   "cell_type": "code",
   "execution_count": 24,
   "metadata": {},
   "outputs": [
    {
     "data": {
      "text/plain": [
       "(17, 2)"
      ]
     },
     "execution_count": 24,
     "metadata": {},
     "output_type": "execute_result"
    }
   ],
   "source": [
    "negative.shape"
   ]
  },
  {
   "cell_type": "markdown",
   "metadata": {},
   "source": [
    "### Get Neutral Tweets"
   ]
  },
  {
   "cell_type": "code",
   "execution_count": 25,
   "metadata": {},
   "outputs": [],
   "source": [
    "neutral = twitter.loc[twitter['Analysis'].str.contains('Neutral')]\n",
    "neutral = neutral.drop(['Subjectivity','Polarity'], axis=1)"
   ]
  },
  {
   "cell_type": "code",
   "execution_count": 26,
   "metadata": {},
   "outputs": [
    {
     "data": {
      "text/html": [
       "<div>\n",
       "<style scoped>\n",
       "    .dataframe tbody tr th:only-of-type {\n",
       "        vertical-align: middle;\n",
       "    }\n",
       "\n",
       "    .dataframe tbody tr th {\n",
       "        vertical-align: top;\n",
       "    }\n",
       "\n",
       "    .dataframe thead th {\n",
       "        text-align: right;\n",
       "    }\n",
       "</style>\n",
       "<table border=\"1\" class=\"dataframe\">\n",
       "  <thead>\n",
       "    <tr style=\"text-align: right;\">\n",
       "      <th></th>\n",
       "      <th>Tweets</th>\n",
       "      <th>Analysis</th>\n",
       "    </tr>\n",
       "  </thead>\n",
       "  <tbody>\n",
       "    <tr>\n",
       "      <th>0</th>\n",
       "      <td>Leo from Virginia recommends Starry Messenger ...</td>\n",
       "      <td>Neutral</td>\n",
       "    </tr>\n",
       "    <tr>\n",
       "      <th>1</th>\n",
       "      <td>SQUIRREL !!!</td>\n",
       "      <td>Neutral</td>\n",
       "    </tr>\n",
       "    <tr>\n",
       "      <th>3</th>\n",
       "      <td>In the chapter Meatarians &amp; Vegetarians, Leo f...</td>\n",
       "      <td>Neutral</td>\n",
       "    </tr>\n",
       "    <tr>\n",
       "      <th>9</th>\n",
       "      <td>Meat production in the US is staggeringly effi...</td>\n",
       "      <td>Neutral</td>\n",
       "    </tr>\n",
       "    <tr>\n",
       "      <th>10</th>\n",
       "      <td>Searching keywords with my handle. In this c...</td>\n",
       "      <td>Neutral</td>\n",
       "    </tr>\n",
       "  </tbody>\n",
       "</table>\n",
       "</div>"
      ],
      "text/plain": [
       "                                               Tweets Analysis\n",
       "0   Leo from Virginia recommends Starry Messenger ...  Neutral\n",
       "1                                       SQUIRREL !!!   Neutral\n",
       "3   In the chapter Meatarians & Vegetarians, Leo f...  Neutral\n",
       "9   Meat production in the US is staggeringly effi...  Neutral\n",
       "10    Searching keywords with my handle. In this c...  Neutral"
      ]
     },
     "execution_count": 26,
     "metadata": {},
     "output_type": "execute_result"
    }
   ],
   "source": [
    "neutral.head()"
   ]
  },
  {
   "cell_type": "code",
   "execution_count": 27,
   "metadata": {},
   "outputs": [
    {
     "data": {
      "text/plain": [
       "(26, 2)"
      ]
     },
     "execution_count": 27,
     "metadata": {},
     "output_type": "execute_result"
    }
   ],
   "source": [
    "neutral.shape"
   ]
  },
  {
   "cell_type": "code",
   "execution_count": 28,
   "metadata": {},
   "outputs": [
    {
     "data": {
      "image/png": "[encoded data removed]",
      "text/plain": [
       "<Figure size 576x432 with 1 Axes>"
      ]
     },
     "metadata": {},
     "output_type": "display_data"
    }
   ],
   "source": [
    "plt.figure(figsize=(8,6))\n",
    "for i in range(0, twitter.shape[0]):\n",
    "    plt.scatter(twitter[\"Polarity\"][i], twitter[\"Subjectivity\"][i], color='Blue')\n",
    "plt.title('Sentiment Analysis')\n",
    "plt.xlabel('Polarity')\n",
    "plt.ylabel('Subjectivity')\n",
    "plt.show()"
   ]
  },
  {
   "cell_type": "markdown",
   "metadata": {},
   "source": [
    "### Percentage of positive, negative and neutral tweets"
   ]
  },
  {
   "cell_type": "code",
   "execution_count": 29,
   "metadata": {},
   "outputs": [
    {
     "name": "stdout",
     "output_type": "stream",
     "text": [
      "57.0 %\n"
     ]
    }
   ],
   "source": [
    "print(str(round((positive.shape[0]/twitter.shape[0])*100, 1))+' %')"
   ]
  },
  {
   "cell_type": "code",
   "execution_count": 30,
   "metadata": {},
   "outputs": [
    {
     "name": "stdout",
     "output_type": "stream",
     "text": [
      "17.0 %\n"
     ]
    }
   ],
   "source": [
    "print(str(round((negative.shape[0]/twitter.shape[0])*100, 1))+' %')"
   ]
  },
  {
   "cell_type": "code",
   "execution_count": 31,
   "metadata": {},
   "outputs": [
    {
     "data": {
      "text/plain": [
       "Positive    57\n",
       "Neutral     26\n",
       "Negative    17\n",
       "Name: Analysis, dtype: int64"
      ]
     },
     "execution_count": 31,
     "metadata": {},
     "output_type": "execute_result"
    }
   ],
   "source": [
    "twitter['Analysis'].value_counts()"
   ]
  },
  {
   "cell_type": "markdown",
   "metadata": {},
   "source": [
    "### Plotting and visualizing tweets"
   ]
  },
  {
   "cell_type": "code",
   "execution_count": 32,
   "metadata": {},
   "outputs": [
    {
     "data": {
      "image/png": "[encoded data removed]",
      "text/plain": [
       "<Figure size 432x288 with 1 Axes>"
      ]
     },
     "metadata": {},
     "output_type": "display_data"
    }
   ],
   "source": [
    "plt.title('Sentiment Analysis')\n",
    "plt.xlabel('Sentiment')\n",
    "plt.ylabel('Counts')\n",
    "twitter['Analysis'].value_counts().plot(kind = 'bar')\n",
    "plt.show()\n"
   ]
  },
  {
   "cell_type": "markdown",
   "metadata": {},
   "source": [
    "### Using Naive Bayes Algorithm"
   ]
  },
  {
   "cell_type": "code",
   "execution_count": 33,
   "metadata": {},
   "outputs": [
    {
     "name": "stdout",
     "output_type": "stream",
     "text": [
      "SQUIRREL !!! \n",
      "Sentiment(classification='pos', p_pos=0.7857142857142855, p_neg=0.21428571428571433)\n",
      "Leo from Virginia just read about how space exploration, giving access to unlimited resources, could bring an end to all wars on Earth waged over limited resources. Reflecting on this fact gives him hope of the future of humans. InternationalDogDay \n",
      "Sentiment(classification='pos', p_pos=0.9265796959975221, p_neg=0.07342030400247869)\n",
      "In the chapter Meatarians & Vegetarians, Leo from Virginia was intrigued that some humans eat only plants. InternationalDogDay \n",
      "Sentiment(classification='neg', p_pos=0.3477289449522334, p_neg=0.6522710550477654)\n",
      "Reading his pre-release copy of Starry Messenger, Leo from Virginia was especially interested in the paragraph on Dog life-expectancy, in the final chapter titled “Life & Death”. InternationalDogDay \n",
      "Sentiment(classification='pos', p_pos=0.7353344686288849, p_neg=0.2646655313711197)\n",
      "If global warming continues:\n",
      "\n",
      "“Damn, it’s 'Hot as Earth' down here!”\n",
      "\n",
      "…said residents of Hell. \n",
      "Sentiment(classification='pos', p_pos=0.8146795600386159, p_neg=0.18532043996138287)\n",
      "Objective truths apply to all people, places, and things, as well as all animals, vegetables, and minerals. Some of these truths apply across all of space and time. They are true even when you don’t believe in them.\n",
      "\n",
      "[Chapter: \"Truth & Beauty\"]\n",
      "\n",
      "Sentiment(classification='pos', p_pos=0.980287413306962, p_neg=0.019712586693040764)\n",
      "Objective truths of science are not founded in belief systems. They are not established by the authority of leaders or the power of persuasion. Nor are they learned from repetition or gleaned from magical thinking.\n",
      "\n",
      "[Starry Messenger: \"Truth & Beauty\"]\n",
      "Sentiment(classification='pos', p_pos=0.9993486074214056, p_neg=0.0006513925785887867)\n",
      "Visiting aliens will have none of our biases. None of our preferences. None of our preconceived notions. They’ll surely notice that the very concept of truth on Earth is fraught with conflicting ideologies, in desperate need of objectivity.\n",
      "\n",
      "[Starry Messenger: \"Truth & Beauty\"]\n",
      "Sentiment(classification='pos', p_pos=0.9999160227392946, p_neg=8.397726070612201e-05)\n",
      "Meat production in the US is staggeringly efficient. For example, across all fifty states we hatch, raise, kill, distribute, and eat a million chickens — PER HOUR.\n",
      "\n",
      "[From \"Meatarians & Vegetarians\" chapter of Starry Messenger: Cosmic Perspectives on Civilization] \n",
      "Sentiment(classification='pos', p_pos=0.993251133613667, p_neg=0.006748866386333193)\n",
      "  Searching keywords with my handle. In this case “multiverse”.\n",
      "Sentiment(classification='neg', p_pos=0.29454072634361256, p_neg=0.7054592736563883)\n"
     ]
    }
   ],
   "source": [
    "tweet_sentiment = []\n",
    "i=0\n",
    "while(i<10):\n",
    "    i=i+1;\n",
    "    print(twitter['Tweets'][i])\n",
    "    analysis = TextBlob(twitter['Tweets'][i], analyzer=NaiveBayesAnalyzer())\n",
    "    print(analysis.sentiment)\n",
    "    tweet_sentiment.append(analysis.sentiment.classification)"
   ]
  },
  {
   "cell_type": "code",
   "execution_count": 34,
   "metadata": {},
   "outputs": [],
   "source": [
    "data = {'Tweet':tweet_sentiment}\n",
    "data = pd.DataFrame(data)"
   ]
  },
  {
   "cell_type": "code",
   "execution_count": 35,
   "metadata": {},
   "outputs": [
    {
     "data": {
      "image/png": "[encoded data removed]",
      "text/plain": [
       "<Figure size 540x360 with 1 Axes>"
      ]
     },
     "metadata": {},
     "output_type": "display_data"
    }
   ],
   "source": [
    "sns.set_style('darkgrid')\n",
    "g = sns.catplot(x='Tweet', data=data, aspect=1.5, kind=\"count\")"
   ]
  },
  {
   "cell_type": "code",
   "execution_count": null,
   "metadata": {},
   "outputs": [],
   "source": []
  }
 ],
 "metadata": {
  "kernelspec": {
   "display_name": "Python 3 (ipykernel)",
   "language": "python",
   "name": "python3"
  },
  "language_info": {
   "codemirror_mode": {
    "name": "ipython",
    "version": 3
   },
   "file_extension": ".py",
   "mimetype": "text/x-python",
   "name": "python",
   "nbconvert_exporter": "python",
   "pygments_lexer": "ipython3",
   "version": "3.9.12"
  }
 },
 "nbformat": 4,
 "nbformat_minor": 4
}
